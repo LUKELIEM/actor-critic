{
 "cells": [
  {
   "cell_type": "markdown",
   "metadata": {},
   "source": [
    "# Actor-Critic Single Agent Design\n",
    "\n",
    "We build on the starter code developed by Chris Lamb (fellow student at UCSD), which is in turn built on PyTorch's Reinforcement Learning code for CartPole.\n",
    "\n",
    "Chris' starter code has the following Actor-Critic Policy: [actor_critic_model.py](./actor_critic_model.py)\n",
    "\n",
    "```python\n",
    "# 4x3x80x80 input # Stack of 4 Atari game frames  \n",
    "\n",
    "Policy(  \n",
    "  (features): Sequential(  \n",
    "    (0): Conv2d (4, 16, kernel_size=(8, 8), stride=(4, 4), padding=(2, 2))  \n",
    "    (1): BatchNorm2d(16, eps=1e-05, momentum=0.1, affine=True)  \n",
    "    (2): ReLU(inplace)  \n",
    "    (3): Conv2d (16, 32, kernel_size=(4, 4), stride=(2, 2), padding=(1, 1))  \n",
    "    (4): BatchNorm2d(32, eps=1e-05, momentum=0.1, affine=True)  \n",
    "    (5): ReLU(inplace)  \n",
    "  )  \n",
    "  (action_head): Linear(in_features=256, out_features=6)  \n",
    "  (value_head): Linear(in_features=256, out_features=1)  \n",
    ")  \n",
    "\n",
    "Action = softmax(action_head(x)/temperature)    \n",
    "Value = value_head(x)\n",
    "```  \n",
    "\n",
    "We in turn evolve this into a Conv-LSTM network utilizing Truncated Backprop Thru Time (TBPTT).\n"
   ]
  },
  {
   "cell_type": "code",
   "execution_count": 1,
   "metadata": {},
   "outputs": [
    {
     "name": "stdout",
     "output_type": "stream",
     "text": [
      "Python version:  3.6.3\n"
     ]
    }
   ],
   "source": [
    "import torch\n",
    "import torch.nn as nn\n",
    "import torch.optim as optim\n",
    "from torch.autograd import Variable\n",
    "from torch.utils.data import DataLoader\n",
    "from torch.utils.data import sampler\n",
    "from torch.optim.lr_scheduler import StepLR\n",
    "\n",
    "import torchvision\n",
    "import torchvision.datasets as dset\n",
    "import torchvision.transforms as T\n",
    "\n",
    "import os\n",
    "import numpy as np\n",
    "import timeit\n",
    "import time\n",
    "import platform\n",
    "import random\n",
    "import pickle as pickle\n",
    "import matplotlib.pyplot as plt\n",
    "\n",
    "%matplotlib inline\n",
    "plt.rcParams['figure.figsize'] = (10.0, 8.0) # set default size of plots\n",
    "plt.rcParams['image.interpolation'] = 'nearest'\n",
    "plt.rcParams['image.cmap'] = 'gray'\n",
    "\n",
    "# for auto-reloading external modules\n",
    "# see http://stackoverflow.com/questions/1907993/autoreload-of-modules-in-ipython\n",
    "%load_ext autoreload\n",
    "%autoreload 2\n",
    "\n",
    "print(\"Python version: \", platform.python_version())"
   ]
  },
  {
   "cell_type": "markdown",
   "metadata": {},
   "source": [
    "## Actor-Critic Model with LSTM (First Try)\n",
    "\n",
    "Network Architecture:  [ac_lstm_model.py](./ac_lstm_model.py)\n",
    "\n",
    "```python\n",
    "# 4x3x80x80 input # Stack of 4 Atari game frame  \n",
    "\n",
    "Policy(  \n",
    "  (features): Sequential(  \n",
    "    (0): Conv2d (4, 16, kernel_size=(8, 8), stride=(4, 4), padding=(2, 2))  \n",
    "    (1): BatchNorm2d(16, eps=1e-05, momentum=0.1, affine=True)  \n",
    "    (2): ReLU(inplace)  \n",
    "    (3): Conv2d (16, 32, kernel_size=(4, 4), stride=(2, 2), padding=(1, 1))  \n",
    "    (4): BatchNorm2d(32, eps=1e-05, momentum=0.1, affine=True)  \n",
    "    (5): ReLU(inplace)  \n",
    "    (6): Conv2d (32, 32, kernel_size=(4, 4), stride=(2, 2))  \n",
    "    (7): BatchNorm2d(32, eps=1e-05, momentum=0.1, affine=True)  \n",
    "    (8): ReLU(inplace)  \n",
    "  )  \n",
    "  (lstm): LSTMCell(512, 256)  \n",
    "  (action_head): Linear(in_features=256, out_features=6)  \n",
    "  (value_head): Linear(in_features=256, out_features=1)  \n",
    ")  \n",
    "\n",
    "Action = softmax(action_head(x)/temperature)    \n",
    "Value = value_head(x)\n",
    "```\n",
    "\n",
    "Python code is located in [actor_critic_lstm.py](./actor_critic_lstm.py)"
   ]
  },
  {
   "cell_type": "code",
   "execution_count": 35,
   "metadata": {},
   "outputs": [],
   "source": [
    "class Policy(torch.nn.Module):\n",
    "\n",
    "    def __init__(self, input_channels, num_actions):\n",
    "        super(Policy, self).__init__()\n",
    "        self.temperature = 1.0\n",
    "        self.input_channels = input_channels\n",
    "        self.num_actions = num_actions\n",
    "        self.features = self._init_features()\n",
    "        self.lstm = self._init_lstm()\n",
    "        self.action_head = self._init_action_head()\n",
    "        self.value_head = self._init_value_head()\n",
    "        \n",
    "        self.saved_actions = []\n",
    "        self.rewards = []\n",
    "\n",
    "    def _init_features(self):\n",
    "        layers = []\n",
    "        # 80 x 80 x in_channels initial dimensions 3D array\n",
    "        layers.append(torch.nn.Conv2d(self.input_channels,\n",
    "                                      16, kernel_size=8, stride=4, padding=2))\n",
    "        layers.append(torch.nn.BatchNorm2d(16))\n",
    "        layers.append(torch.nn.ReLU(inplace=True))\n",
    "        # 20 x 20 x 16 feature maps\n",
    "        layers.append(torch.nn.Conv2d(16,\n",
    "                                      32, kernel_size=4, stride=2, padding=1))\n",
    "        layers.append(torch.nn.BatchNorm2d(32))\n",
    "        layers.append(torch.nn.ReLU(inplace=True))\n",
    "        # 10 x 10 x 32 feature maps\n",
    "        layers.append(torch.nn.Conv2d(32,\n",
    "                                      32, kernel_size=4, stride=2, padding=0))\n",
    "        layers.append(torch.nn.BatchNorm2d(32))\n",
    "        layers.append(torch.nn.ReLU(inplace=True))\n",
    "        # 4 x 4 x 32 feature maps\n",
    "        return torch.nn.Sequential(*layers)\n",
    "    \n",
    "    def _init_lstm(self):\n",
    "        return torch.nn.LSTMCell(32*4*4, 256)\n",
    "\n",
    "    def _init_action_head(self):\n",
    "        return torch.nn.Linear(256, self.num_actions)\n",
    "\n",
    "    def _init_value_head(self):\n",
    "        return torch.nn.Linear(256, 1)\n",
    "\n",
    "    def forward(self, inputs):\n",
    "        x, (hx, cx) = inputs\n",
    "        x = self.features(x)\n",
    "        x = x.view(x.size(0), -1)  # 1 x 512(4x4x32)\n",
    "        \n",
    "        hx, cx = self.lstm(x, (hx, cx))\n",
    "        x = hx\n",
    "        \n",
    "        action = torch.nn.functional.softmax(self.action_head(x) /\n",
    "                                             self.temperature, dim=-1)\n",
    "        value = self.value_head(x)\n",
    "        return action, value, (hx, cx)\n"
   ]
  },
  {
   "cell_type": "markdown",
   "metadata": {},
   "source": [
    "### Dimension Check\n",
    "\n",
    "For building the architecture."
   ]
  },
  {
   "cell_type": "code",
   "execution_count": 36,
   "metadata": {},
   "outputs": [
    {
     "name": "stdout",
     "output_type": "stream",
     "text": [
      "Policy(\n",
      "  (features): Sequential(\n",
      "    (0): Conv2d (4, 16, kernel_size=(8, 8), stride=(4, 4), padding=(2, 2))\n",
      "    (1): BatchNorm2d(16, eps=1e-05, momentum=0.1, affine=True)\n",
      "    (2): ReLU(inplace)\n",
      "    (3): Conv2d (16, 32, kernel_size=(4, 4), stride=(2, 2), padding=(1, 1))\n",
      "    (4): BatchNorm2d(32, eps=1e-05, momentum=0.1, affine=True)\n",
      "    (5): ReLU(inplace)\n",
      "    (6): Conv2d (32, 32, kernel_size=(4, 4), stride=(2, 2))\n",
      "    (7): BatchNorm2d(32, eps=1e-05, momentum=0.1, affine=True)\n",
      "    (8): ReLU(inplace)\n",
      "  )\n",
      "  (lstm): LSTMCell(512, 256)\n",
      "  (action_head): Linear(in_features=256, out_features=6)\n",
      "  (value_head): Linear(in_features=256, out_features=1)\n",
      ")\n",
      "torch.Size([1, 512])\n",
      "torch.Size([1, 1])\n",
      "torch.Size([1, 256])\n",
      "torch.Size([1, 256])\n"
     ]
    }
   ],
   "source": [
    "model = Policy(4,6)\n",
    "print (model)\n",
    "    \n",
    "x = torch.randn(1,4,80,80)\n",
    "cx = Variable(torch.zeros(1, 256))\n",
    "hx = Variable(torch.zeros(1, 256))\n",
    "\n",
    "action, value, (hx, cx) = model((Variable(x), (hx, cx)))        # Feed it through the model! \n",
    "\n",
    "print (ans.shape)\n",
    "print (value.shape)\n",
    "print (hx.shape)\n",
    "print (cx.shape)\n"
   ]
  },
  {
   "cell_type": "markdown",
   "metadata": {},
   "source": [
    "## Result\n",
    "\n",
    "The Actor-Critic-LSTM achieves human performance in the game of Pong at approx 4000 episodes. The model created by Chris Lamb (without the LSTM) attains human performance at approx. 7000 episodes.\n",
    "\n",
    "The model learns to running reward of 16.0 by the 9000 episodes. Its performance then crashed likely due to exploding gradient. This is because the current algorithm perform forward and backward prop through an entire game episode. We discover that in the game of Pong, there can be over 4000 game steps in a single episode."
   ]
  },
  {
   "cell_type": "code",
   "execution_count": 12,
   "metadata": {},
   "outputs": [
    {
     "data": {
      "image/png": "[encoded data removed]",
      "text/plain": [
       "<matplotlib.figure.Figure at 0x7f9cf9173080>"
      ]
     },
     "metadata": {},
     "output_type": "display_data"
    }
   ],
   "source": [
    "import matplotlib.pyplot as plt\n",
    "import pickle\n",
    "import argparse\n",
    "\n",
    "human_scores = {'Asteroids-v0': 13157,\n",
    "                'Breakout-v0': 31.8,\n",
    "                'Pong-v0': 9.3,\n",
    "                'SpaceInvaders-v0': 1652,\n",
    "                }\n",
    "\n",
    "game = 'Pong-v0'\n",
    "data_file = './results/Pong-v0 (AC-lstm-fullepisode-ep=9500) (copy).p'.format(game)\n",
    "\n",
    "with open(data_file, 'rb') as f:\n",
    "    data = pickle.load(f)\n",
    "\n",
    "human = [human_scores[game] for _ in range(len(data))]\n",
    "\n",
    "plt.plot(data, label='Actor-Critic')\n",
    "plt.plot(human, label='Human Expert')\n",
    "plt.title('{} Rewards versus Episodes'.format(game))\n",
    "plt.xlabel('Episodes')\n",
    "plt.ylabel('Average Rewards')\n",
    "plt.legend()\n",
    "plt.tight_layout()\n",
    "plt.show()"
   ]
  },
  {
   "cell_type": "code",
   "execution_count": 14,
   "metadata": {},
   "outputs": [
    {
     "data": {
      "image/png": "[encoded data removed]",
      "text/plain": [
       "<matplotlib.figure.Figure at 0x7f9cf91a7470>"
      ]
     },
     "metadata": {},
     "output_type": "display_data"
    }
   ],
   "source": [
    "human_scores = {'Asteroids-v0': 13157,\n",
    "                'Breakout-v0': 31.8,\n",
    "                'Pong-v0': 9.3,\n",
    "                'SpaceInvaders-v0': 1652,\n",
    "                }\n",
    "\n",
    "game = 'Pong-v0'\n",
    "data_file = './results/Pong-v0 (AC-lstm-fullepisode-ep=9500) (copy).p'.format(game)\n",
    "\n",
    "with open(data_file, 'rb') as f:\n",
    "    data_lstm = pickle.load(f)\n",
    "\n",
    "data_file = './results/Pong-v0-AC-noLSTM.p'.format(game)\n",
    "\n",
    "with open(data_file, 'rb') as f:\n",
    "    data_no_lstm = pickle.load(f)\n",
    "\n",
    "human = [human_scores[game] for _ in range(len(data_no_lstm))]\n",
    "\n",
    "plt.plot(data_lstm, label='Actor-Critic-LSTM')\n",
    "plt.plot(data_no_lstm, label='Actor-Critic-no-LSTM')\n",
    "plt.plot(human, label='Human Expert')\n",
    "plt.title('{} Rewards versus Episodes'.format(game))\n",
    "plt.xlabel('Episodes')\n",
    "plt.ylabel('Average Rewards')\n",
    "plt.legend()\n",
    "plt.tight_layout()\n",
    "plt.show()"
   ]
  },
  {
   "cell_type": "markdown",
   "metadata": {},
   "source": [
    "## Actor-Critic-LSTM (Backprop thru Episode)\n",
    "\n",
    "Network Architecture is the same:  [ac_lstm_model.py](./ac_lstm_model.py)\n",
    "\n",
    "We implement a few improvements:\n",
    "* [gradient clipping](http://pytorch.org/docs/master/_modules/torch/nn/utils/clip_grad.html)  \n",
    "* Temperature annealing - We try to force the agent to explore (temp > 1.0) if running reward is less than 21.0, which the highest score possible for Pong.  \n",
    "\n",
    "We still forward prop and backward prop through an entire game episode, which can exceed 4000 game steps. While LSTM can handle gradient vanishing well, it will not prevent gradient from exploding with such a long sequence. We noticed that the gradient norm (outputted by torch.nn.utils.clip_grad_norm) can be as high as 1000-5000, so we clip the gradient with max_norm=1000.\n",
    "\n",
    "Python code is located in [actor_critic_lstm-episode.py](./actor_critic_lstm-episode.py)"
   ]
  },
  {
   "cell_type": "code",
   "execution_count": null,
   "metadata": {},
   "outputs": [],
   "source": []
  },
  {
   "cell_type": "markdown",
   "metadata": {},
   "source": [
    "## Actor-Critic-LSTM (Truncated Backprop through Time - TBPTT)\n",
    "\n",
    "Network Architecture is the same:  [ac_lstm_model.py](./ac_lstm_model.py)\n",
    "\n",
    "Truncated Backprop(TBP) \n",
    "* The general idea is based on Slide 41-44 of [CS231N_2017 Lecture 10](http://cs231n.stanford.edu/slides/2017/cs231n_2017_lecture10.pdf) \n",
    "* Run forward and backward through chunks of sequence vs whole sequence. While hidden values hx and cx are carried forward in time forever.  \n",
    "\n",
    "In this version, we forward prop and backward prop through multiple chunks (32 or 64 game steps) through a game episode. The gradient norm (outputted by torch.nn.utils.clip_grad_norm) is typically under 100, so we clip the gradient with max_norm=50.\n",
    "\n",
    "Python code is located in [actor_critic_lstm-batch.py](./actor_critic_lstm-batch.py)"
   ]
  },
  {
   "cell_type": "code",
   "execution_count": null,
   "metadata": {},
   "outputs": [],
   "source": []
  }
 ],
 "metadata": {
  "kernelspec": {
   "display_name": "Python [default]",
   "language": "python",
   "name": "python3"
  },
  "language_info": {
   "codemirror_mode": {
    "name": "ipython",
    "version": 3
   },
   "file_extension": ".py",
   "mimetype": "text/x-python",
   "name": "python",
   "nbconvert_exporter": "python",
   "pygments_lexer": "ipython3",
   "version": "3.6.3"
  }
 },
 "nbformat": 4,
 "nbformat_minor": 2
}
