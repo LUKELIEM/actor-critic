{
 "cells": [
  {
   "cell_type": "code",
   "execution_count": null,
   "metadata": {},
   "outputs": [],
   "source": []
  },
  {
   "cell_type": "code",
   "execution_count": 1,
   "metadata": {},
   "outputs": [
    {
     "name": "stdout",
     "output_type": "stream",
     "text": [
      "Python version:  3.6.4\n"
     ]
    }
   ],
   "source": [
    "import torch\n",
    "import torch.nn as nn\n",
    "import torch.optim as optim\n",
    "from torch.autograd import Variable\n",
    "from torch.utils.data import DataLoader\n",
    "from torch.utils.data import sampler\n",
    "from torch.optim.lr_scheduler import StepLR\n",
    "\n",
    "import torchvision\n",
    "import torchvision.datasets as dset\n",
    "import torchvision.transforms as T\n",
    "\n",
    "import os\n",
    "import numpy as np\n",
    "import timeit\n",
    "import time\n",
    "import platform\n",
    "import random\n",
    "import pickle as pickle\n",
    "import matplotlib.pyplot as plt\n",
    "\n",
    "%matplotlib inline\n",
    "plt.rcParams['figure.figsize'] = (10.0, 8.0) # set default size of plots\n",
    "plt.rcParams['image.interpolation'] = 'nearest'\n",
    "plt.rcParams['image.cmap'] = 'gray'\n",
    "\n",
    "# for auto-reloading external modules\n",
    "# see http://stackoverflow.com/questions/1907993/autoreload-of-modules-in-ipython\n",
    "%load_ext autoreload\n",
    "%autoreload 2\n",
    "\n",
    "print(\"Python version: \", platform.python_version())"
   ]
  },
  {
   "cell_type": "markdown",
   "metadata": {},
   "source": [
    "## Actor-Critic Model with LSTM"
   ]
  },
  {
   "cell_type": "code",
   "execution_count": 35,
   "metadata": {},
   "outputs": [],
   "source": [
    "class Policy(torch.nn.Module):\n",
    "\n",
    "    def __init__(self, input_channels, num_actions):\n",
    "        super(Policy, self).__init__()\n",
    "        self.temperature = 1.0\n",
    "        self.input_channels = input_channels\n",
    "        self.num_actions = num_actions\n",
    "        self.features = self._init_features()\n",
    "        self.lstm = self._init_lstm()\n",
    "        self.action_head = self._init_action_head()\n",
    "        self.value_head = self._init_value_head()\n",
    "        \n",
    "        self.saved_actions = []\n",
    "        self.rewards = []\n",
    "\n",
    "    def _init_features(self):\n",
    "        layers = []\n",
    "        # 80 x 80 x in_channels initial dimensions 3D array\n",
    "        layers.append(torch.nn.Conv2d(self.input_channels,\n",
    "                                      16, kernel_size=8, stride=4, padding=2))\n",
    "        layers.append(torch.nn.BatchNorm2d(16))\n",
    "        layers.append(torch.nn.ReLU(inplace=True))\n",
    "        # 20 x 20 x 16 feature maps\n",
    "        layers.append(torch.nn.Conv2d(16,\n",
    "                                      32, kernel_size=4, stride=2, padding=1))\n",
    "        layers.append(torch.nn.BatchNorm2d(32))\n",
    "        layers.append(torch.nn.ReLU(inplace=True))\n",
    "        # 10 x 10 x 32 feature maps\n",
    "        layers.append(torch.nn.Conv2d(32,\n",
    "                                      32, kernel_size=4, stride=2, padding=0))\n",
    "        layers.append(torch.nn.BatchNorm2d(32))\n",
    "        layers.append(torch.nn.ReLU(inplace=True))\n",
    "        # 4 x 4 x 32 feature maps\n",
    "        return torch.nn.Sequential(*layers)\n",
    "    \n",
    "    def _init_lstm(self):\n",
    "        return torch.nn.LSTMCell(32*4*4, 256)\n",
    "\n",
    "    def _init_action_head(self):\n",
    "        return torch.nn.Linear(256, self.num_actions)\n",
    "\n",
    "    def _init_value_head(self):\n",
    "        return torch.nn.Linear(256, 1)\n",
    "\n",
    "    def forward(self, inputs):\n",
    "        x, (hx, cx) = inputs\n",
    "        x = self.features(x)\n",
    "        x = x.view(x.size(0), -1)  # 1 x 512(4x4x32)\n",
    "        \n",
    "        hx, cx = self.lstm(x, (hx, cx))\n",
    "        x = hx\n",
    "        \n",
    "        action = torch.nn.functional.softmax(self.action_head(x) /\n",
    "                                             self.temperature, dim=-1)\n",
    "        value = self.value_head(x)\n",
    "        return action, value, (hx, cx)\n"
   ]
  },
  {
   "cell_type": "code",
   "execution_count": 36,
   "metadata": {},
   "outputs": [
    {
     "name": "stdout",
     "output_type": "stream",
     "text": [
      "Policy(\n",
      "  (features): Sequential(\n",
      "    (0): Conv2d (4, 16, kernel_size=(8, 8), stride=(4, 4), padding=(2, 2))\n",
      "    (1): BatchNorm2d(16, eps=1e-05, momentum=0.1, affine=True)\n",
      "    (2): ReLU(inplace)\n",
      "    (3): Conv2d (16, 32, kernel_size=(4, 4), stride=(2, 2), padding=(1, 1))\n",
      "    (4): BatchNorm2d(32, eps=1e-05, momentum=0.1, affine=True)\n",
      "    (5): ReLU(inplace)\n",
      "    (6): Conv2d (32, 32, kernel_size=(4, 4), stride=(2, 2))\n",
      "    (7): BatchNorm2d(32, eps=1e-05, momentum=0.1, affine=True)\n",
      "    (8): ReLU(inplace)\n",
      "  )\n",
      "  (lstm): LSTMCell(512, 256)\n",
      "  (action_head): Linear(in_features=256, out_features=6)\n",
      "  (value_head): Linear(in_features=256, out_features=1)\n",
      ")\n",
      "torch.Size([1, 512])\n",
      "torch.Size([1, 1])\n",
      "torch.Size([1, 256])\n",
      "torch.Size([1, 256])\n"
     ]
    }
   ],
   "source": [
    "model = Policy(4,6)\n",
    "print (model)\n",
    "    \n",
    "x = torch.randn(1,4,80,80)\n",
    "cx = Variable(torch.zeros(1, 256))\n",
    "hx = Variable(torch.zeros(1, 256))\n",
    "\n",
    "action, value, (hx, cx) = model((Variable(x), (hx, cx)))        # Feed it through the model! \n",
    "\n",
    "print (ans.shape)\n",
    "print (value.shape)\n",
    "print (hx.shape)\n",
    "print (cx.shape)\n"
   ]
  },
  {
   "cell_type": "code",
   "execution_count": 14,
   "metadata": {},
   "outputs": [
    {
     "name": "stdout",
     "output_type": "stream",
     "text": [
      "torch.Size([1, 4, 80, 80])\n"
     ]
    }
   ],
   "source": [
    "from utils import preprocess_state\n",
    "import gym\n",
    "\n",
    "env = gym.make('Pong-v0')\n",
    "num_frames = 4\n",
    "\n",
    "state = env.reset()\n",
    "state = preprocess_state(state)\n",
    "state = np.stack([state]*num_frames)\n",
    "\n",
    "num_frames, height, width = state.shape\n",
    "state = torch.FloatTensor(state.reshape(-1, num_frames, height, width))\n",
    "print (state.shape)\n",
    "env.close()"
   ]
  },
  {
   "cell_type": "code",
   "execution_count": 12,
   "metadata": {},
   "outputs": [
    {
     "name": "stdout",
     "output_type": "stream",
     "text": [
      "torch.Size([1, 4, 80, 80])\n"
     ]
    }
   ],
   "source": []
  },
  {
   "cell_type": "code",
   "execution_count": 13,
   "metadata": {},
   "outputs": [],
   "source": []
  },
  {
   "cell_type": "code",
   "execution_count": null,
   "metadata": {},
   "outputs": [],
   "source": []
  }
 ],
 "metadata": {
  "kernelspec": {
   "display_name": "Python [default]",
   "language": "python",
   "name": "python3"
  },
  "language_info": {
   "codemirror_mode": {
    "name": "ipython",
    "version": 3
   },
   "file_extension": ".py",
   "mimetype": "text/x-python",
   "name": "python",
   "nbconvert_exporter": "python",
   "pygments_lexer": "ipython3",
   "version": "3.6.4"
  }
 },
 "nbformat": 4,
 "nbformat_minor": 2
}
